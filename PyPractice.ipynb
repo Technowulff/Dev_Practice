{
  "nbformat": 4,
  "nbformat_minor": 0,
  "metadata": {
    "colab": {
      "name": "Welcome To Colaboratory",
      "provenance": [],
      "collapsed_sections": []
    },
    "kernelspec": {
      "display_name": "Python 3",
      "name": "python3"
    }
  },
  "cells": [
    {
      "cell_type": "markdown",
      "metadata": {
        "id": "Y3J2c8idbrxA"
      },
      "source": [
        "# Practice Code"
      ]
    },
    {
      "cell_type": "code",
      "metadata": {
        "id": "v69aoDDXbyrn",
        "outputId": "3060d943-c18e-461a-fe87-615309dda68c",
        "colab": {
          "base_uri": "https://localhost:8080/"
        }
      },
      "source": [
        "s = 'First line.\\nSecond line.'\n",
        "print(s)"
      ],
      "execution_count": 33,
      "outputs": [
        {
          "output_type": "stream",
          "text": [
            "First line.\n",
            "Second line.\n"
          ],
          "name": "stdout"
        }
      ]
    }
  ]
}